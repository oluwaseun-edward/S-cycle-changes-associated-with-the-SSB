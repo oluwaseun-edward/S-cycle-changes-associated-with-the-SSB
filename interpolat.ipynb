{
 "cells": [
  {
   "cell_type": "code",
   "execution_count": 1,
   "metadata": {},
   "outputs": [],
   "source": [
    "import numpy as np\n",
    "import pandas as pd\n",
    "\n",
    "save_path = '../figures/'\n",
    "file_path = \"../data_files/interpolated.xlsx\"\n"
   ]
  },
  {
   "attachments": {},
   "cell_type": "markdown",
   "metadata": {},
   "source": [
    "# Qiakong age linear interpolation"
   ]
  },
  {
   "cell_type": "code",
   "execution_count": 2,
   "metadata": {},
   "outputs": [],
   "source": [
    "df1 = pd.read_excel(file_path, sheet_name=\"interp\")\n",
    "Age = df1[\"Age\"]\n",
    "Height = df1[\"Height\"]\n",
    "unknown_heights = df1[\"height_unknown\"]\n",
    "\n",
    "# Compute interpolated ages and create dataframe with these ages\n",
    "interpolated_ages = np.interp(unknown_heights, Height, Age)\n",
    "heights = []\n",
    "ages = []\n",
    "for height, age in zip(unknown_heights, interpolated_ages):\n",
    "    heights.append(height)\n",
    "    ages.append(age)\n",
    "\n",
    "df = pd.DataFrame(list(zip(heights, ages)), columns=['Height', 'Age'])\n",
    "\n",
    "new_df = pd.concat([Age, Height], axis=1)\n",
    "new_df\n",
    "\n",
    "# Concatenate the known and interpolated dataframes\n",
    "df_combined = pd.concat([new_df, df]).sort_values(\n",
    "    'Height').reset_index(drop=True)\n",
    "df_combined\n",
    "\n",
    "with pd.ExcelWriter(file_path, engine=\"openpyxl\", mode='a', if_sheet_exists='overlay') as writer:\n",
    "    df_combined.to_excel(writer, sheet_name=\"np_ages\", index=True, float_format=\"%.3f\")\n"
   ]
  },
  {
   "attachments": {},
   "cell_type": "markdown",
   "metadata": {},
   "source": [
    "# Oman interpolation"
   ]
  },
  {
   "cell_type": "code",
   "execution_count": 3,
   "metadata": {},
   "outputs": [],
   "source": [
    "wmj = pd.read_excel(file_path, sheet_name='WMJ2')\n",
    "ja = pd.read_excel(file_path, sheet_name='JA2')\n",
    "sha = pd.read_excel(file_path, sheet_name='SHA')"
   ]
  },
  {
   "cell_type": "code",
   "execution_count": 4,
   "metadata": {},
   "outputs": [],
   "source": [
    "dfs = [wmj, ja, sha]\n",
    "sections = [\"wmj\", \"ja\", \"sha\"]\n",
    "# Compute interpolated ages and create dataframe with these ages\n",
    "for i in range(len(dfs)):\n",
    "    interpolated_ages = np.interp(dfs[i][\"height_unknown\"], dfs[i][\"height\"], dfs[i][\"Age\"])\n",
    "    heights = []\n",
    "    ages = []\n",
    "    for height, age in zip(dfs[i][\"height_unknown\"], interpolated_ages):\n",
    "        heights.append(height)\n",
    "        ages.append(age)\n",
    "\n",
    "    df = pd.DataFrame(list(zip(heights, ages)), columns=['Height', 'Age'])\n",
    "\n",
    "    with pd.ExcelWriter(\"../data_files/lit_ages_result.xlsx\", engine=\"openpyxl\", mode='a', if_sheet_exists='overlay') as writer:\n",
    "        df.to_excel(writer, sheet_name=f'ages_{sections[i]}2',\n",
    "                            index=True, float_format=\"%.3f\")"
   ]
  },
  {
   "cell_type": "code",
   "execution_count": 5,
   "metadata": {},
   "outputs": [],
   "source": [
    "# data_path = \"../data_files/data_Charline.xlsx\"\n",
    "# df = pd.read_excel(data_path, sheet_name=\"df\")"
   ]
  },
  {
   "cell_type": "code",
   "execution_count": 6,
   "metadata": {},
   "outputs": [
    {
     "data": {
      "text/plain": [
       "'\\n# Print the combined DataFrame\\n# print(df_combined)\\nexisting_data = pd.read_excel(data_path, sheet_name=\\'df2\\')\\n\\n# export the data to multiple sheets in existing excel file\\nwith pd.ExcelWriter(\"../data_files/interpolated.xlsx\", engine=\"openpyxl\", mode=\\'a\\', if_sheet_exists=\\'overlay\\') as writer:\\n    df_combined.to_excel(writer, sheet_name=\"df2\", index=True, header=[\\n        \\'age\\', \\'height\\'], float_format=\"%.3f\")\\n'"
      ]
     },
     "execution_count": 6,
     "metadata": {},
     "output_type": "execute_result"
    }
   ],
   "source": [
    "\"\"\"# Define the known data\n",
    "known_data = {\n",
    "    'age': [250.038, 249.881, 249.857, 249.519, 249.292, 249.11, 249.11, 249.088, 248.95, 248.893, 248.25],\n",
    "    'height': [4.10, 5.80, 7.00, 11.10, 13.60, 15.6, 15.90, 18.4, 21.5, 26.8, 29.2]\n",
    "}\n",
    "\n",
    "# Create the DataFrame with known data\n",
    "df_known = pd.DataFrame(known_data)\n",
    "\n",
    "# Create an empty DataFrame for interpolated data\n",
    "df_interpolated = pd.DataFrame(columns=['height', 'age'])\n",
    "\n",
    "# Iterate over the known data\n",
    "for i in range(len(df_known) - 1):\n",
    "    age_start = df_known['age'][i]\n",
    "    age_end = df_known['age'][i + 1]\n",
    "    height_start = df_known['height'][i]\n",
    "    height_end = df_known['height'][i + 1]\n",
    "\n",
    "    # Find the samples with unknown ages within the height range\n",
    "    df_unknown = df[(df['height'] > height_start) & (\n",
    "        df['height'] < height_end) & (df['age'].isna())]\n",
    "\n",
    "    # Perform linear interpolation for each sample with unknown age\n",
    "    for _, row in df_unknown.iterrows():\n",
    "        height_unknown = row['height']\n",
    "        interpolated_age = age_start + \\\n",
    "            (height_unknown - height_start) * \\\n",
    "            (age_end - age_start) / (height_end - height_start)\n",
    "        df_interpolated = df_interpolated.append(\n",
    "            {'height': height_unknown, 'age': interpolated_age}, ignore_index=True)\n",
    "\n",
    "# Concatenate the known and interpolated dataframes\n",
    "df_combined = pd.concat([df_known, df_interpolated]).sort_values(\n",
    "    'height').reset_index(drop=True)\"\"\"\n",
    "\n",
    "\"\"\"\n",
    "# Print the combined DataFrame\n",
    "# print(df_combined)\n",
    "existing_data = pd.read_excel(data_path, sheet_name='df2')\n",
    "\n",
    "# export the data to multiple sheets in existing excel file\n",
    "with pd.ExcelWriter(\"../data_files/interpolated.xlsx\", engine=\"openpyxl\", mode='a', if_sheet_exists='overlay') as writer:\n",
    "    df_combined.to_excel(writer, sheet_name=\"df2\", index=True, header=[\n",
    "        'age', 'height'], float_format=\"%.3f\")\n",
    "\"\"\"\n"
   ]
  }
 ],
 "metadata": {
  "kernelspec": {
   "display_name": "base",
   "language": "python",
   "name": "python3"
  },
  "language_info": {
   "codemirror_mode": {
    "name": "ipython",
    "version": 3
   },
   "file_extension": ".py",
   "mimetype": "text/x-python",
   "name": "python",
   "nbconvert_exporter": "python",
   "pygments_lexer": "ipython3",
   "version": "3.9.16"
  },
  "orig_nbformat": 4
 },
 "nbformat": 4,
 "nbformat_minor": 2
}
