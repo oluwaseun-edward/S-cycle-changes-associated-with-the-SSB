{
 "cells": [
  {
   "cell_type": "code",
   "execution_count": 1,
   "metadata": {},
   "outputs": [],
   "source": [
    "import pandas as pd\n",
    "import numpy as np\n"
   ]
  },
  {
   "cell_type": "code",
   "execution_count": 2,
   "metadata": {},
   "outputs": [],
   "source": [
    "save_path = '../figures/'\n",
    "data_path = \"../data_files/lit_ages.xlsx\"\n",
    "sh = pd.read_excel(data_path, sheet_name='Shitouzhai')\n",
    "lg = pd.read_excel(data_path, sheet_name='l_guandao')\n",
    "lg2 = pd.read_excel(data_path, sheet_name='lg2')\n",
    "jia = pd.read_excel(data_path, sheet_name='Jiarong')\n",
    "wp = pd.read_excel(data_path, sheet_name='WPDS')\n",
    "mud = pd.read_excel(data_path, sheet_name='Mud')\n",
    "jes = pd.read_excel(data_path, sheet_name='Jesmond')\n",
    "mm = pd.read_excel(data_path, sheet_name='MM')\n",
    "mm2 = pd.read_excel(data_path, sheet_name='MM2')\n",
    "maj = pd.read_excel(data_path, sheet_name='Majiashan')"
   ]
  },
  {
   "cell_type": "code",
   "execution_count": 3,
   "metadata": {},
   "outputs": [],
   "source": [
    "dfs = [sh, lg, lg2, jia, wp, mud, jes, mm, mm2, maj]\n",
    "sections = [\"sh\", \"lg\",\"lg2\", \"jia\", \"wp\", \"mud\", \"jes\", \"mm\", \"mm2\",\" maj\"]\n",
    "# Compute interpolated ages and create dataframe with these ages\n",
    "for i in range(len(dfs)):\n",
    "    interpolated_ages = np.interp(dfs[i][\"height_unknown\"], dfs[i][\"height\"], dfs[i][\"Age\"])\n",
    "    heights = []\n",
    "    ages = []\n",
    "    for height, age in zip(dfs[i][\"height_unknown\"], interpolated_ages):\n",
    "        heights.append(height)\n",
    "        ages.append(age)\n",
    "\n",
    "    df = pd.DataFrame(list(zip(heights, ages)), columns=['Height', 'Age'])\n",
    "\n",
    "    with pd.ExcelWriter(\"../data_files/lit_ages_result.xlsx\", engine=\"openpyxl\", mode='a', if_sheet_exists='overlay') as writer:\n",
    "        df.to_excel(writer, sheet_name=f'ages_{sections[i]}',\n",
    "                            index=True, float_format=\"%.3f\")\n"
   ]
  },
  {
   "cell_type": "code",
   "execution_count": 4,
   "metadata": {},
   "outputs": [
    {
     "data": {
      "text/plain": [
       "'# Define the known data\\nknown_data = {\\n    \\'age\\': [251.1, 249.292, 249.088, 248.25, 248],\\n    \\'height\\': [101.2, 150.6, 158.1, 189.8, 224.6]\\n}\\nunknown_height = [103.4, 103.9, 106.5, 108.1, \\t109.4, \\t110.5, \\t111.3, \\t113.1, 114.2, \\t115.1, \\t115.8, \\t117.1, \\t119.5, \\t120.1, \\t121.3, \\t123.0, \\t123.9, \\t124.5, \\t125.5, \\t128.4, \\t128.9, \\t131.2, \\t132.1, \\t133.0, \\t135.7, \\t136.4, \\t137.4, \\t138.4, \\t139.2, \\t163.0, \\t164.4, \\t165.8, \\t166.3, \\t175.4, \\t176.5, \\t183.7, \\t192.4, \\t195.8, \\t198.1, \\t201.5, \\t203.8, \\t207.9, \\t210.1, \\t213.4,\\t223.9]\\n\\ndf_known = pd.DataFrame(known_data)\\n\\ninterpolated_ages = np.interp(unknown_height, known_data[\"height\"], known_data[\"age\"])\\n\\ninterpolated_ages = pd.DataFrame(interpolated_ages)\\n# interpolated_ages\\n\\nwith pd.ExcelWriter(\"../data_files/lit_ages_result.xlsx\", engine=\"openpyxl\", mode=\\'a\\', if_sheet_exists=\\'overlay\\') as writer:\\n    interpolated_ages.to_excel(writer, sheet_name=f\\'ages_lg2\\',\\n                index=True, float_format=\"%.3f\")\\n'"
      ]
     },
     "execution_count": 4,
     "metadata": {},
     "output_type": "execute_result"
    }
   ],
   "source": [
    "\"\"\"# Define the known data\n",
    "known_data = {\n",
    "    'age': [251.1, 249.292, 249.088, 248.25, 248],\n",
    "    'height': [101.2, 150.6, 158.1, 189.8, 224.6]\n",
    "}\n",
    "unknown_height = [103.4, 103.9, 106.5, 108.1, \t109.4, \t110.5, \t111.3, \t113.1, 114.2, \t115.1, \t115.8, \t117.1, \t119.5, \t120.1, \t121.3, \t123.0, \t123.9, \t124.5, \t125.5, \t128.4, \t128.9, \t131.2, \t132.1, \t133.0, \t135.7, \t136.4, \t137.4, \t138.4, \t139.2, \t163.0, \t164.4, \t165.8, \t166.3, \t175.4, \t176.5, \t183.7, \t192.4, \t195.8, \t198.1, \t201.5, \t203.8, \t207.9, \t210.1, \t213.4,\t223.9]\n",
    "\n",
    "df_known = pd.DataFrame(known_data)\n",
    "\n",
    "interpolated_ages = np.interp(unknown_height, known_data[\"height\"], known_data[\"age\"])\n",
    "\n",
    "interpolated_ages = pd.DataFrame(interpolated_ages)\n",
    "# interpolated_ages\n",
    "\n",
    "with pd.ExcelWriter(\"../data_files/lit_ages_result.xlsx\", engine=\"openpyxl\", mode='a', if_sheet_exists='overlay') as writer:\n",
    "    interpolated_ages.to_excel(writer, sheet_name=f'ages_lg2',\n",
    "                index=True, float_format=\"%.3f\")\n",
    "\"\"\""
   ]
  }
 ],
 "metadata": {
  "kernelspec": {
   "display_name": "base",
   "language": "python",
   "name": "python3"
  },
  "language_info": {
   "codemirror_mode": {
    "name": "ipython",
    "version": 3
   },
   "file_extension": ".py",
   "mimetype": "text/x-python",
   "name": "python",
   "nbconvert_exporter": "python",
   "pygments_lexer": "ipython3",
   "version": "3.9.16"
  },
  "orig_nbformat": 4
 },
 "nbformat": 4,
 "nbformat_minor": 2
}
